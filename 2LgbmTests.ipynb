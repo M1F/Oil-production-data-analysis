{
 "cells": [
  {
   "cell_type": "code",
   "execution_count": 1,
   "metadata": {},
   "outputs": [],
   "source": [
    "import numpy as np\n",
    "import pandas as pd\n",
    "import lightgbm as lgb\n",
    "from sklearn.model_selection import train_test_split, StratifiedKFold, cross_val_score, GridSearchCV\n",
    "from sklearn.preprocessing import StandardScaler\n",
    "from sklearn.metrics import mean_squared_error, mean_absolute_error"
   ]
  },
  {
   "cell_type": "code",
   "execution_count": 2,
   "metadata": {},
   "outputs": [],
   "source": [
    "import warnings\n",
    "warnings.filterwarnings('ignore')"
   ]
  },
  {
   "cell_type": "markdown",
   "metadata": {},
   "source": [
    "### Method for calculating MAE in percents"
   ]
  },
  {
   "cell_type": "code",
   "execution_count": 3,
   "metadata": {},
   "outputs": [],
   "source": [
    "def mean_absolute_percentage_error(y_true, y_pred): \n",
    "    y_true, y_pred = np.array(y_true), np.array(y_pred)\n",
    "    return np.mean(np.abs((y_true - y_pred) / y_true)) * 100"
   ]
  },
  {
   "cell_type": "markdown",
   "metadata": {},
   "source": [
    "### Reading and splitting data"
   ]
  },
  {
   "cell_type": "code",
   "execution_count": 4,
   "metadata": {},
   "outputs": [],
   "source": [
    "df = pd.read_csv('DATA/forProcessing.csv')\n",
    "df_a = df.dropna()\n",
    "X = df_a.drop('receive_pressure', axis = 1)\n",
    "y = df_a['receive_pressure']"
   ]
  },
  {
   "cell_type": "code",
   "execution_count": 5,
   "metadata": {},
   "outputs": [],
   "source": [
    "x_train, x_test, y_train, y_test = train_test_split(X, y, test_size = 0.25, random_state = 0)"
   ]
  },
  {
   "cell_type": "markdown",
   "metadata": {},
   "source": [
    "### Feature scaling"
   ]
  },
  {
   "cell_type": "code",
   "execution_count": 6,
   "metadata": {},
   "outputs": [],
   "source": [
    "sc = StandardScaler()\n",
    "x_train = sc.fit_transform(x_train)\n",
    "x_test = sc.transform(x_test)"
   ]
  },
  {
   "cell_type": "markdown",
   "metadata": {},
   "source": [
    "### Converting into LGBM dataset"
   ]
  },
  {
   "cell_type": "code",
   "execution_count": 7,
   "metadata": {},
   "outputs": [],
   "source": [
    "d_train = lgb.Dataset(x_train, label=y_train)"
   ]
  },
  {
   "cell_type": "markdown",
   "metadata": {},
   "source": [
    "### Setting up parameters"
   ]
  },
  {
   "cell_type": "code",
   "execution_count": 8,
   "metadata": {},
   "outputs": [],
   "source": [
    "params = {}\n",
    "params['learning_rate'] = 0.01\n",
    "params['boosting_type'] = 'gbdt'\n",
    "params['objective'] = 'regression'\n",
    "params['metric'] = {'l2', 'l1'}\n",
    "params['sub_feature'] = 0.8\n",
    "params['num_leaves'] = 20\n",
    "params['min_data'] = 3\n",
    "params['max_depth'] = 15\n",
    "\n",
    "params['feature_fraction'] = .99\n",
    "params['bagging_fraction'] = .99\n",
    "params['bagging_freq'] = 3"
   ]
  },
  {
   "cell_type": "markdown",
   "metadata": {},
   "source": [
    "### Training"
   ]
  },
  {
   "cell_type": "code",
   "execution_count": 9,
   "metadata": {},
   "outputs": [],
   "source": [
    "gbm = lgb.train(params, d_train, 10000)"
   ]
  },
  {
   "cell_type": "markdown",
   "metadata": {},
   "source": [
    "### Getting predictions"
   ]
  },
  {
   "cell_type": "code",
   "execution_count": 10,
   "metadata": {},
   "outputs": [],
   "source": [
    "y_pred=gbm.predict(x_test, num_iteration=gbm.best_iteration)"
   ]
  },
  {
   "cell_type": "code",
   "execution_count": 11,
   "metadata": {},
   "outputs": [
    {
     "name": "stdout",
     "output_type": "stream",
     "text": [
      "The RMSE is: 31.27152978854876  and the MAE is:  2.660755195243423\n",
      "The the MAPE is:  10.124580207549286\n"
     ]
    }
   ],
   "source": [
    "print('The RMSE is:', mean_squared_error(y_test, y_pred), \" and the MAE is: \", mean_absolute_error(y_test, y_pred))\n",
    "print(\"The the MAPE is: \", mean_absolute_percentage_error(y_test, y_pred))"
   ]
  },
  {
   "cell_type": "markdown",
   "metadata": {},
   "source": [
    "### Saving model and predictions"
   ]
  },
  {
   "cell_type": "code",
   "execution_count": 12,
   "metadata": {},
   "outputs": [],
   "source": [
    "gbm.save_model('model.txt')\n",
    "subm = pd.DataFrame(y_pred)\n",
    "subm.to_csv('output.csv', index=False)"
   ]
  },
  {
   "cell_type": "markdown",
   "metadata": {},
   "source": [
    "### Excluding outliers"
   ]
  },
  {
   "cell_type": "code",
   "execution_count": 13,
   "metadata": {},
   "outputs": [],
   "source": [
    "df_b = df_a[ (df_a.receive_pressure < df_a.receive_pressure.quantile(.99)) \n",
    "            & (df_a.receive_pressure > df_a.receive_pressure.quantile(.01)) ]"
   ]
  },
  {
   "cell_type": "code",
   "execution_count": 14,
   "metadata": {},
   "outputs": [
    {
     "data": {
      "text/html": [
       "<div>\n",
       "<style scoped>\n",
       "    .dataframe tbody tr th:only-of-type {\n",
       "        vertical-align: middle;\n",
       "    }\n",
       "\n",
       "    .dataframe tbody tr th {\n",
       "        vertical-align: top;\n",
       "    }\n",
       "\n",
       "    .dataframe thead th {\n",
       "        text-align: right;\n",
       "    }\n",
       "</style>\n",
       "<table border=\"1\" class=\"dataframe\">\n",
       "  <thead>\n",
       "    <tr style=\"text-align: right;\">\n",
       "      <th></th>\n",
       "      <th>diameter</th>\n",
       "      <th>depth</th>\n",
       "      <th>buffer_pressure</th>\n",
       "      <th>line_pressure</th>\n",
       "      <th>dynamic_height</th>\n",
       "      <th>annulus_pressure</th>\n",
       "      <th>water_cut</th>\n",
       "      <th>receive_pressure</th>\n",
       "    </tr>\n",
       "  </thead>\n",
       "  <tbody>\n",
       "    <tr>\n",
       "      <th>count</th>\n",
       "      <td>526.000000</td>\n",
       "      <td>526.000000</td>\n",
       "      <td>526.000000</td>\n",
       "      <td>526.000000</td>\n",
       "      <td>526.000000</td>\n",
       "      <td>526.000000</td>\n",
       "      <td>526.000000</td>\n",
       "      <td>526.000000</td>\n",
       "    </tr>\n",
       "    <tr>\n",
       "      <th>mean</th>\n",
       "      <td>153.305703</td>\n",
       "      <td>2496.230608</td>\n",
       "      <td>12.329087</td>\n",
       "      <td>10.824905</td>\n",
       "      <td>2392.705323</td>\n",
       "      <td>12.346198</td>\n",
       "      <td>49.645475</td>\n",
       "      <td>20.269202</td>\n",
       "    </tr>\n",
       "    <tr>\n",
       "      <th>std</th>\n",
       "      <td>3.910865</td>\n",
       "      <td>196.191778</td>\n",
       "      <td>6.630105</td>\n",
       "      <td>6.505090</td>\n",
       "      <td>236.816486</td>\n",
       "      <td>6.579059</td>\n",
       "      <td>20.171019</td>\n",
       "      <td>11.487239</td>\n",
       "    </tr>\n",
       "    <tr>\n",
       "      <th>min</th>\n",
       "      <td>147.000000</td>\n",
       "      <td>2229.540000</td>\n",
       "      <td>6.100000</td>\n",
       "      <td>5.100000</td>\n",
       "      <td>1608.000000</td>\n",
       "      <td>4.000000</td>\n",
       "      <td>12.000000</td>\n",
       "      <td>8.000000</td>\n",
       "    </tr>\n",
       "    <tr>\n",
       "      <th>25%</th>\n",
       "      <td>150.200000</td>\n",
       "      <td>2349.110000</td>\n",
       "      <td>7.000000</td>\n",
       "      <td>6.000000</td>\n",
       "      <td>2248.500000</td>\n",
       "      <td>7.200000</td>\n",
       "      <td>34.000000</td>\n",
       "      <td>11.000000</td>\n",
       "    </tr>\n",
       "    <tr>\n",
       "      <th>50%</th>\n",
       "      <td>150.200000</td>\n",
       "      <td>2435.000000</td>\n",
       "      <td>7.500000</td>\n",
       "      <td>6.300000</td>\n",
       "      <td>2347.000000</td>\n",
       "      <td>8.000000</td>\n",
       "      <td>48.500000</td>\n",
       "      <td>17.000000</td>\n",
       "    </tr>\n",
       "    <tr>\n",
       "      <th>75%</th>\n",
       "      <td>157.200000</td>\n",
       "      <td>2662.250000</td>\n",
       "      <td>19.725000</td>\n",
       "      <td>17.950000</td>\n",
       "      <td>2591.750000</td>\n",
       "      <td>19.000000</td>\n",
       "      <td>63.750000</td>\n",
       "      <td>26.000000</td>\n",
       "    </tr>\n",
       "    <tr>\n",
       "      <th>max</th>\n",
       "      <td>157.200000</td>\n",
       "      <td>3012.210000</td>\n",
       "      <td>27.000000</td>\n",
       "      <td>26.000000</td>\n",
       "      <td>3007.000000</td>\n",
       "      <td>27.700000</td>\n",
       "      <td>93.000000</td>\n",
       "      <td>86.000000</td>\n",
       "    </tr>\n",
       "  </tbody>\n",
       "</table>\n",
       "</div>"
      ],
      "text/plain": [
       "         diameter        depth  buffer_pressure  line_pressure  \\\n",
       "count  526.000000   526.000000       526.000000     526.000000   \n",
       "mean   153.305703  2496.230608        12.329087      10.824905   \n",
       "std      3.910865   196.191778         6.630105       6.505090   \n",
       "min    147.000000  2229.540000         6.100000       5.100000   \n",
       "25%    150.200000  2349.110000         7.000000       6.000000   \n",
       "50%    150.200000  2435.000000         7.500000       6.300000   \n",
       "75%    157.200000  2662.250000        19.725000      17.950000   \n",
       "max    157.200000  3012.210000        27.000000      26.000000   \n",
       "\n",
       "       dynamic_height  annulus_pressure   water_cut  receive_pressure  \n",
       "count      526.000000        526.000000  526.000000        526.000000  \n",
       "mean      2392.705323         12.346198   49.645475         20.269202  \n",
       "std        236.816486          6.579059   20.171019         11.487239  \n",
       "min       1608.000000          4.000000   12.000000          8.000000  \n",
       "25%       2248.500000          7.200000   34.000000         11.000000  \n",
       "50%       2347.000000          8.000000   48.500000         17.000000  \n",
       "75%       2591.750000         19.000000   63.750000         26.000000  \n",
       "max       3007.000000         27.700000   93.000000         86.000000  "
      ]
     },
     "execution_count": 14,
     "metadata": {},
     "output_type": "execute_result"
    }
   ],
   "source": [
    "low = .01\n",
    "high = .99\n",
    "df_extreme = df_a.quantile([low, high])\n",
    "df_b = df_a.apply(lambda x: x[(x>df_extreme.loc[low,x.name]) & \n",
    "                                    (x < df_extreme.loc[high,x.name])], axis=0)\n",
    "df_b.dropna(inplace=True)\n",
    "df_b.describe()"
   ]
  },
  {
   "cell_type": "code",
   "execution_count": 15,
   "metadata": {},
   "outputs": [
    {
     "name": "stdout",
     "output_type": "stream",
     "text": [
      "The RMSE is: 33.55834759930384  and the MAE is:  2.8830068126021366\n",
      "The the MAPE is:  13.320255276317585\n"
     ]
    }
   ],
   "source": [
    "X1 = df_b.drop('receive_pressure', axis = 1)\n",
    "y1 = df_b['receive_pressure']\n",
    "x_train1, x_test1, y_train1, y_test1 = train_test_split(X1, y1, test_size = 0.25, random_state = 0)\n",
    "\n",
    "sc1 = StandardScaler()\n",
    "x_train1 = sc1.fit_transform(x_train1)\n",
    "x_test1 = sc1.transform(x_test1)\n",
    "\n",
    "d_train1 = lgb.Dataset(x_train1, label=y_train1)\n",
    "\n",
    "gbm1 = lgb.train(params, d_train1, 10000)\n",
    "\n",
    "y_pred1=gbm1.predict(x_test1, num_iteration=gbm1.best_iteration)\n",
    "\n",
    "print('The RMSE is:', mean_squared_error(y_test1, y_pred1), \" and the MAE is: \", mean_absolute_error(y_test1, y_pred1))\n",
    "print(\"The the MAPE is: \", mean_absolute_percentage_error(y_test1, y_pred1))"
   ]
  },
  {
   "cell_type": "markdown",
   "metadata": {},
   "source": [
    "### Excluding low corelated features"
   ]
  },
  {
   "cell_type": "code",
   "execution_count": 16,
   "metadata": {},
   "outputs": [
    {
     "data": {
      "text/html": [
       "<div>\n",
       "<style scoped>\n",
       "    .dataframe tbody tr th:only-of-type {\n",
       "        vertical-align: middle;\n",
       "    }\n",
       "\n",
       "    .dataframe tbody tr th {\n",
       "        vertical-align: top;\n",
       "    }\n",
       "\n",
       "    .dataframe thead th {\n",
       "        text-align: right;\n",
       "    }\n",
       "</style>\n",
       "<table border=\"1\" class=\"dataframe\">\n",
       "  <thead>\n",
       "    <tr style=\"text-align: right;\">\n",
       "      <th></th>\n",
       "      <th>diameter</th>\n",
       "      <th>depth</th>\n",
       "      <th>buffer_pressure</th>\n",
       "      <th>line_pressure</th>\n",
       "      <th>dynamic_height</th>\n",
       "      <th>annulus_pressure</th>\n",
       "      <th>receive_pressure</th>\n",
       "    </tr>\n",
       "  </thead>\n",
       "  <tbody>\n",
       "    <tr>\n",
       "      <th>0</th>\n",
       "      <td>146.8</td>\n",
       "      <td>2349.0</td>\n",
       "      <td>20.2</td>\n",
       "      <td>19.2</td>\n",
       "      <td>2332.0</td>\n",
       "      <td>20.5</td>\n",
       "      <td>22.0</td>\n",
       "    </tr>\n",
       "    <tr>\n",
       "      <th>1</th>\n",
       "      <td>146.8</td>\n",
       "      <td>2349.0</td>\n",
       "      <td>20.4</td>\n",
       "      <td>19.4</td>\n",
       "      <td>2342.0</td>\n",
       "      <td>20.0</td>\n",
       "      <td>25.0</td>\n",
       "    </tr>\n",
       "    <tr>\n",
       "      <th>2</th>\n",
       "      <td>146.8</td>\n",
       "      <td>2349.0</td>\n",
       "      <td>20.6</td>\n",
       "      <td>19.6</td>\n",
       "      <td>2344.0</td>\n",
       "      <td>21.1</td>\n",
       "      <td>24.0</td>\n",
       "    </tr>\n",
       "    <tr>\n",
       "      <th>3</th>\n",
       "      <td>146.8</td>\n",
       "      <td>2349.0</td>\n",
       "      <td>20.0</td>\n",
       "      <td>19.3</td>\n",
       "      <td>2320.0</td>\n",
       "      <td>20.8</td>\n",
       "      <td>24.0</td>\n",
       "    </tr>\n",
       "    <tr>\n",
       "      <th>4</th>\n",
       "      <td>146.8</td>\n",
       "      <td>2349.0</td>\n",
       "      <td>20.7</td>\n",
       "      <td>19.7</td>\n",
       "      <td>2339.0</td>\n",
       "      <td>21.2</td>\n",
       "      <td>24.0</td>\n",
       "    </tr>\n",
       "  </tbody>\n",
       "</table>\n",
       "</div>"
      ],
      "text/plain": [
       "   diameter   depth  buffer_pressure  line_pressure  dynamic_height  \\\n",
       "0     146.8  2349.0             20.2           19.2          2332.0   \n",
       "1     146.8  2349.0             20.4           19.4          2342.0   \n",
       "2     146.8  2349.0             20.6           19.6          2344.0   \n",
       "3     146.8  2349.0             20.0           19.3          2320.0   \n",
       "4     146.8  2349.0             20.7           19.7          2339.0   \n",
       "\n",
       "   annulus_pressure  receive_pressure  \n",
       "0              20.5              22.0  \n",
       "1              20.0              25.0  \n",
       "2              21.1              24.0  \n",
       "3              20.8              24.0  \n",
       "4              21.2              24.0  "
      ]
     },
     "execution_count": 16,
     "metadata": {},
     "output_type": "execute_result"
    }
   ],
   "source": [
    "df_c = df_a.drop(['water_cut'], axis = 1)\n",
    "df_c.head()"
   ]
  },
  {
   "cell_type": "code",
   "execution_count": 17,
   "metadata": {},
   "outputs": [
    {
     "name": "stdout",
     "output_type": "stream",
     "text": [
      "The RMSE is: 33.43471582623008  and the MAE is:  2.7651360664742746\n",
      "The the MAPE is:  10.554677547580175\n"
     ]
    }
   ],
   "source": [
    "X2 = df_c.drop('receive_pressure', axis = 1)\n",
    "y2 = df_c['receive_pressure']\n",
    "x_train2, x_test2, y_train2, y_test2 = train_test_split(X2, y2, test_size = 0.25, random_state = 0)\n",
    "\n",
    "sc2 = StandardScaler()\n",
    "x_train2 = sc2.fit_transform(x_train2)\n",
    "x_test2 = sc2.transform(x_test2)\n",
    "\n",
    "d_train2 = lgb.Dataset(x_train2, label=y_train2)\n",
    "\n",
    "gbm2 = lgb.train(params, d_train2, 10000)\n",
    "\n",
    "y_pred2=gbm2.predict(x_test2, num_iteration=gbm2.best_iteration)\n",
    "\n",
    "print('The RMSE is:', mean_squared_error(y_test2, y_pred2), \" and the MAE is: \", mean_absolute_error(y_test2, y_pred2))\n",
    "print(\"The the MAPE is: \", mean_absolute_percentage_error(y_test2, y_pred2))"
   ]
  },
  {
   "cell_type": "code",
   "execution_count": null,
   "metadata": {},
   "outputs": [],
   "source": []
  }
 ],
 "metadata": {
  "kernelspec": {
   "display_name": "Python 3",
   "language": "python",
   "name": "python3"
  },
  "language_info": {
   "codemirror_mode": {
    "name": "ipython",
    "version": 3
   },
   "file_extension": ".py",
   "mimetype": "text/x-python",
   "name": "python",
   "nbconvert_exporter": "python",
   "pygments_lexer": "ipython3",
   "version": "3.7.1"
  }
 },
 "nbformat": 4,
 "nbformat_minor": 2
}
